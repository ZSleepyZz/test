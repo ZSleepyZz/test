{
 "cells": [
  {
   "cell_type": "code",
   "execution_count": 1,
   "id": "7c4cb702",
   "metadata": {},
   "outputs": [
    {
     "name": "stdout",
     "output_type": "stream",
     "text": [
      "Ho Anh Dung\n",
      "ngay 17 thang 7 nam 2005\n",
      "47 Nguyen Tuan,Thanh Xuan\n",
      "hoc python\n"
     ]
    }
   ],
   "source": [
    "print(\"Ho Anh Dung\")\n",
    "print(\"ngay 17 thang 7 nam 2005\")\n",
    "print(\"47 Nguyen Tuan,Thanh Xuan\")\n",
    "print(\"hoc python\")"
   ]
  }
 ],
 "metadata": {
  "kernelspec": {
   "display_name": "Python 3 (ipykernel)",
   "language": "python",
   "name": "python3"
  },
  "language_info": {
   "codemirror_mode": {
    "name": "ipython",
    "version": 3
   },
   "file_extension": ".py",
   "mimetype": "text/x-python",
   "name": "python",
   "nbconvert_exporter": "python",
   "pygments_lexer": "ipython3",
   "version": "3.9.13"
  }
 },
 "nbformat": 4,
 "nbformat_minor": 5
}
